{
 "cells": [
  {
   "cell_type": "code",
   "execution_count": 48,
   "metadata": {},
   "outputs": [
    {
     "name": "stdout",
     "output_type": "stream",
     "text": [
      "   Numero Movimentacao            Nome       Município Data da Movimentacao  \\\n",
      "0                    1  Caramuru Pie I       São Paulo           2020-01-02   \n",
      "1                    2          Indaia  Belo Horizonte           2020-01-04   \n",
      "2                    3    Diamante Iii       São Paulo           2020-01-04   \n",
      "3                    4    Diamante Iii       São Paulo           2020-01-04   \n",
      "4                    5    Diamante Iii         Vitória           2020-01-04   \n",
      "\n",
      "   Valor da Movimentação         Tipo     Banco  \\\n",
      "0                 675.87  Recebimento      Itaú   \n",
      "1             1562555.94  Recebimento    Nubank   \n",
      "2                4970.12  Recebimento    Nubank   \n",
      "3                6716.79  Recebimento    Nubank   \n",
      "4                7072.15  Recebimento  Bradesco   \n",
      "\n",
      "                                  Imagem Forma Pagamento  \n",
      "0      https://i.ibb.co/DznB5q4/Itau.png             Pix  \n",
      "1    https://i.ibb.co/LpJM38D/Nubank.png          Boleto  \n",
      "2    https://i.ibb.co/LpJM38D/Nubank.png          Boleto  \n",
      "3    https://i.ibb.co/LpJM38D/Nubank.png             Pix  \n",
      "4  https://i.ibb.co/68RXB19/Bradesco.png     MercadoPago  \n"
     ]
    }
   ],
   "source": [
    "import pandas as pd\n",
    "\n",
    "# Carregar o arquivo Excel\n",
    "df = pd.read_excel(\"Base Financeiro.xlsx\")\n",
    "\n",
    "# Exibir as primeiras linhas para entender a estrutura\n",
    "print(df.head())\n"
   ]
  },
  {
   "cell_type": "code",
   "execution_count": 49,
   "metadata": {},
   "outputs": [
    {
     "name": "stdout",
     "output_type": "stream",
     "text": [
      "Receita Total: R$94.602.866,94\n"
     ]
    }
   ],
   "source": [
    "# Filtrar os dados apenas onde o Tipo é \"Recebimento\"\n",
    "recebimentos = df[df[\"Tipo\"] == \"Recebimento\"]\n",
    "\n",
    "# Somar os valores da coluna \"Valor da Movimentação\"\n",
    "receita_total = recebimentos[\"Valor da Movimentação\"].sum()\n",
    "\n",
    "print(f\"Receita Total: R${receita_total:,.2f}\".replace(\",\", \"X\").replace(\".\", \",\").replace(\"X\", \".\"))"
   ]
  },
  {
   "cell_type": "code",
   "execution_count": 50,
   "metadata": {},
   "outputs": [
    {
     "name": "stdout",
     "output_type": "stream",
     "text": [
      "Custos Totais: R$44.863.840,92\n"
     ]
    }
   ],
   "source": [
    "# Filtrar os dados apenas onde o Tipo é \"Pagamento\"\n",
    "pagamentos = df[df[\"Tipo\"] == \"Pagamento\"]\n",
    "\n",
    "# Somar os valores absolutos da coluna \"Valor da Movimentação\"\n",
    "custos_total = pagamentos[\"Valor da Movimentação\"].abs().sum()\n",
    "\n",
    "print(f\"Custos Totais: R${custos_total:,.2f}\".replace(\",\", \"X\").replace(\".\", \",\").replace(\"X\", \".\"))"
   ]
  },
  {
   "cell_type": "code",
   "execution_count": 51,
   "metadata": {},
   "outputs": [
    {
     "name": "stdout",
     "output_type": "stream",
     "text": [
      "Total de Impostos (15% da Receita): R$14.190.430,04\n"
     ]
    }
   ],
   "source": [
    "# Receita total (caso já tenha sido calculada)\n",
    "# Receita_total = 1000  # Exemplo, substitua pelo valor real se necessário\n",
    "\n",
    "# Calculando os impostos como 15% da receita total\n",
    "impostos = receita_total * 0.15\n",
    "print(f\"Total de Impostos (15% da Receita): R${impostos:,.2f}\".replace(\",\", \"X\").replace(\".\", \",\").replace(\"X\", \".\"))"
   ]
  },
  {
   "cell_type": "code",
   "execution_count": 52,
   "metadata": {},
   "outputs": [
    {
     "name": "stdout",
     "output_type": "stream",
     "text": [
      "Lucro Total: R$35.548.595,98\n"
     ]
    }
   ],
   "source": [
    "# Calculando o lucro\n",
    "lucro = receita_total - custos_total - impostos\n",
    "\n",
    "# Exibindo o lucro\n",
    "print(f\"Lucro Total: R${lucro:,.2f}\".replace(\",\", \"X\").replace(\".\", \",\").replace(\"X\", \".\"))"
   ]
  },
  {
   "cell_type": "code",
   "execution_count": 53,
   "metadata": {},
   "outputs": [
    {
     "name": "stdout",
     "output_type": "stream",
     "text": [
      "Margem de lucro: R$37,58\n"
     ]
    }
   ],
   "source": [
    "# Calculando a margem de lucro \n",
    "margem_lucro = (lucro / receita_total) * 100\n",
    "# Exibindo o lucro\n",
    "print(f\"Margem de lucro: R${margem_lucro:,.2f}\".replace(\",\", \"X\").replace(\".\", \",\").replace(\"X\", \".\"))"
   ]
  },
  {
   "cell_type": "code",
   "execution_count": 54,
   "metadata": {},
   "outputs": [
    {
     "name": "stdout",
     "output_type": "stream",
     "text": [
      "139466707.86\n"
     ]
    }
   ],
   "source": [
    "# Cálculo do fluxo de caixa\n",
    "# Filtrando os recebimentos e pagamentos\n",
    "recebimentos_totais = df[df[\"Tipo\"] == \"Recebimento\"][\"Valor da Movimentação\"].sum()\n",
    "pagamentos_totais = df[df[\"Tipo\"] == \"Pagamento\"][\"Valor da Movimentação\"].sum()\n",
    "\n",
    "# Fluxo de caixa\n",
    "fluxo_de_caixa = recebimentos_totais - pagamentos_totais\n",
    "print(fluxo_de_caixa)"
   ]
  },
  {
   "cell_type": "code",
   "execution_count": 55,
   "metadata": {},
   "outputs": [
    {
     "name": "stdout",
     "output_type": "stream",
     "text": [
      "Total de transações: 2725\n"
     ]
    }
   ],
   "source": [
    "# Calculando o total de transações\n",
    "total_transacoes = len(df)\n",
    "print(f\"Total de transações: {total_transacoes}\")"
   ]
  },
  {
   "cell_type": "code",
   "execution_count": 56,
   "metadata": {},
   "outputs": [
    {
     "name": "stdout",
     "output_type": "stream",
     "text": [
      "Total de transações via Pix: 1200\n"
     ]
    }
   ],
   "source": [
    "# Total de transações via Pix\n",
    "transacoes_pix = df[df['Forma Pagamento'] == 'Pix']['Forma Pagamento'].count()\n",
    "print(f\"Total de transações via Pix: {transacoes_pix}\")"
   ]
  },
  {
   "cell_type": "code",
   "execution_count": 57,
   "metadata": {},
   "outputs": [
    {
     "name": "stdout",
     "output_type": "stream",
     "text": [
      "Percentual de transações via Pix: 44.04%\n"
     ]
    }
   ],
   "source": [
    "# Percentual de transações via Pix\n",
    "percentual_pix = (transacoes_pix / total_transacoes) * 100\n",
    "print(f\"Percentual de transações via Pix: {percentual_pix:.2f}%\")"
   ]
  },
  {
   "cell_type": "code",
   "execution_count": 58,
   "metadata": {},
   "outputs": [
    {
     "name": "stdout",
     "output_type": "stream",
     "text": [
      "Resultados de Desvio da Meta por Cidade:\n",
      "Cidade: São Paulo, Margem de Lucro: 63.60%, Desvio da Meta (%): +33.60\n",
      "Cidade: Rio de Janeiro, Margem de Lucro: 33.70%, Desvio da Meta (%): +3.70\n",
      "Cidade: Vitória, Margem de Lucro: 26.32%, Desvio da Meta (%): -3.68\n",
      "Cidade: Belo Horizonte, Margem de Lucro: 21.45%, Desvio da Meta (%): -8.55\n"
     ]
    }
   ],
   "source": [
    "# Dados das cidades e suas margens\n",
    "cidades = {\n",
    "    \"São Paulo\": 63.60,\n",
    "    \"Rio de Janeiro\": 33.70,\n",
    "    \"Vitória\": 26.32,\n",
    "    \"Belo Horizonte\": 21.45\n",
    "}\n",
    "\n",
    "# Calcular o desvio da meta para cada cidade\n",
    "desvios_meta = {cidade: margem - 30 for cidade, margem in cidades.items()}\n",
    "\n",
    "# Exibir os resultados\n",
    "print(\"Resultados de Desvio da Meta por Cidade:\")\n",
    "for cidade, desvio in desvios_meta.items():\n",
    "    print(f\"Cidade: {cidade}, Margem de Lucro: {cidades[cidade]:.2f}%, Desvio da Meta (%): {desvio:+.2f}\")"
   ]
  }
 ],
 "metadata": {
  "kernelspec": {
   "display_name": "Python 3",
   "language": "python",
   "name": "python3"
  },
  "language_info": {
   "codemirror_mode": {
    "name": "ipython",
    "version": 3
   },
   "file_extension": ".py",
   "mimetype": "text/x-python",
   "name": "python",
   "nbconvert_exporter": "python",
   "pygments_lexer": "ipython3",
   "version": "3.12.4"
  }
 },
 "nbformat": 4,
 "nbformat_minor": 2
}
